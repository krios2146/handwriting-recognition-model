{
 "cells": [
  {
   "cell_type": "markdown",
   "id": "b756b5a2-5f90-4bbe-86c6-5ab422569e91",
   "metadata": {
    "tags": []
   },
   "source": [
    "# Setup"
   ]
  },
  {
   "cell_type": "markdown",
   "id": "11135f61-23b9-42ed-9f57-02adac88ef84",
   "metadata": {
    "tags": []
   },
   "source": [
    "## Install & Improt dependencies"
   ]
  },
  {
   "cell_type": "code",
   "execution_count": 3,
   "id": "40b14eb1-5f8a-4315-b9e7-4cd77132d369",
   "metadata": {
    "collapsed": true,
    "jupyter": {
     "outputs_hidden": true
    },
    "scrolled": true,
    "tags": []
   },
   "outputs": [
    {
     "name": "stdout",
     "output_type": "stream",
     "text": [
      "Requirement already satisfied: tensorflow in .\\hadwriting-recognition-kernel\\lib\\site-packages (2.12.0rc0)\n",
      "Requirement already satisfied: opencv-python in .\\hadwriting-recognition-kernel\\lib\\site-packages (4.7.0.72)\n",
      "Requirement already satisfied: matplotlib in .\\hadwriting-recognition-kernel\\lib\\site-packages (3.7.1)\n",
      "Requirement already satisfied: tensorflow-intel==2.12.0-rc0 in .\\hadwriting-recognition-kernel\\lib\\site-packages (from tensorflow) (2.12.0rc0)\n",
      "Requirement already satisfied: absl-py>=1.0.0 in .\\hadwriting-recognition-kernel\\lib\\site-packages (from tensorflow-intel==2.12.0-rc0->tensorflow) (1.4.0)\n",
      "Requirement already satisfied: astunparse>=1.6.0 in .\\hadwriting-recognition-kernel\\lib\\site-packages (from tensorflow-intel==2.12.0-rc0->tensorflow) (1.6.3)\n",
      "Requirement already satisfied: flatbuffers>=2.0 in .\\hadwriting-recognition-kernel\\lib\\site-packages (from tensorflow-intel==2.12.0-rc0->tensorflow) (23.3.3)\n",
      "Requirement already satisfied: gast<=0.4.0,>=0.2.1 in .\\hadwriting-recognition-kernel\\lib\\site-packages (from tensorflow-intel==2.12.0-rc0->tensorflow) (0.4.0)\n",
      "Requirement already satisfied: google-pasta>=0.1.1 in .\\hadwriting-recognition-kernel\\lib\\site-packages (from tensorflow-intel==2.12.0-rc0->tensorflow) (0.2.0)\n",
      "Requirement already satisfied: h5py>=2.9.0 in .\\hadwriting-recognition-kernel\\lib\\site-packages (from tensorflow-intel==2.12.0-rc0->tensorflow) (3.8.0)\n",
      "Requirement already satisfied: jax>=0.3.15 in .\\hadwriting-recognition-kernel\\lib\\site-packages (from tensorflow-intel==2.12.0-rc0->tensorflow) (0.4.5)\n",
      "Requirement already satisfied: libclang>=13.0.0 in .\\hadwriting-recognition-kernel\\lib\\site-packages (from tensorflow-intel==2.12.0-rc0->tensorflow) (15.0.6.1)\n",
      "Requirement already satisfied: numpy<1.24,>=1.22 in .\\hadwriting-recognition-kernel\\lib\\site-packages (from tensorflow-intel==2.12.0-rc0->tensorflow) (1.23.5)\n",
      "Requirement already satisfied: opt-einsum>=2.3.2 in .\\hadwriting-recognition-kernel\\lib\\site-packages (from tensorflow-intel==2.12.0-rc0->tensorflow) (3.3.0)\n",
      "Requirement already satisfied: packaging in .\\hadwriting-recognition-kernel\\lib\\site-packages (from tensorflow-intel==2.12.0-rc0->tensorflow) (23.0)\n",
      "Requirement already satisfied: protobuf!=4.21.0,!=4.21.1,!=4.21.2,!=4.21.3,!=4.21.4,!=4.21.5,<5.0.0dev,>=3.20.3 in .\\hadwriting-recognition-kernel\\lib\\site-packages (from tensorflow-intel==2.12.0-rc0->tensorflow) (4.22.0)\n",
      "Requirement already satisfied: setuptools in .\\hadwriting-recognition-kernel\\lib\\site-packages (from tensorflow-intel==2.12.0-rc0->tensorflow) (65.5.0)\n",
      "Requirement already satisfied: six>=1.12.0 in .\\hadwriting-recognition-kernel\\lib\\site-packages (from tensorflow-intel==2.12.0-rc0->tensorflow) (1.16.0)\n",
      "Requirement already satisfied: termcolor>=1.1.0 in .\\hadwriting-recognition-kernel\\lib\\site-packages (from tensorflow-intel==2.12.0-rc0->tensorflow) (2.2.0)\n",
      "Requirement already satisfied: typing-extensions>=3.6.6 in .\\hadwriting-recognition-kernel\\lib\\site-packages (from tensorflow-intel==2.12.0-rc0->tensorflow) (4.5.0)\n",
      "Requirement already satisfied: wrapt>=1.11.0 in .\\hadwriting-recognition-kernel\\lib\\site-packages (from tensorflow-intel==2.12.0-rc0->tensorflow) (1.15.0)\n",
      "Requirement already satisfied: grpcio<2.0,>=1.24.3 in .\\hadwriting-recognition-kernel\\lib\\site-packages (from tensorflow-intel==2.12.0-rc0->tensorflow) (1.51.3)\n",
      "Requirement already satisfied: tensorboard<2.13,>=2.12 in .\\hadwriting-recognition-kernel\\lib\\site-packages (from tensorflow-intel==2.12.0-rc0->tensorflow) (2.12.0)\n",
      "Requirement already satisfied: tensorflow-estimator<2.13,>=2.12.0rc0 in .\\hadwriting-recognition-kernel\\lib\\site-packages (from tensorflow-intel==2.12.0-rc0->tensorflow) (2.12.0rc0)\n",
      "Requirement already satisfied: keras<2.13,>=2.12.0rc0 in .\\hadwriting-recognition-kernel\\lib\\site-packages (from tensorflow-intel==2.12.0-rc0->tensorflow) (2.12.0rc1)\n",
      "Requirement already satisfied: tensorflow-io-gcs-filesystem>=0.23.1 in .\\hadwriting-recognition-kernel\\lib\\site-packages (from tensorflow-intel==2.12.0-rc0->tensorflow) (0.31.0)\n",
      "Requirement already satisfied: contourpy>=1.0.1 in .\\hadwriting-recognition-kernel\\lib\\site-packages (from matplotlib) (1.0.7)\n",
      "Requirement already satisfied: cycler>=0.10 in .\\hadwriting-recognition-kernel\\lib\\site-packages (from matplotlib) (0.11.0)\n",
      "Requirement already satisfied: fonttools>=4.22.0 in .\\hadwriting-recognition-kernel\\lib\\site-packages (from matplotlib) (4.38.0)\n",
      "Requirement already satisfied: kiwisolver>=1.0.1 in .\\hadwriting-recognition-kernel\\lib\\site-packages (from matplotlib) (1.4.4)\n",
      "Requirement already satisfied: pillow>=6.2.0 in .\\hadwriting-recognition-kernel\\lib\\site-packages (from matplotlib) (9.4.0)\n",
      "Requirement already satisfied: pyparsing>=2.3.1 in .\\hadwriting-recognition-kernel\\lib\\site-packages (from matplotlib) (3.0.9)\n",
      "Requirement already satisfied: python-dateutil>=2.7 in .\\hadwriting-recognition-kernel\\lib\\site-packages (from matplotlib) (2.8.2)\n",
      "Requirement already satisfied: wheel<1.0,>=0.23.0 in .\\hadwriting-recognition-kernel\\lib\\site-packages (from astunparse>=1.6.0->tensorflow-intel==2.12.0-rc0->tensorflow) (0.38.4)\n",
      "Requirement already satisfied: scipy>=1.5 in .\\hadwriting-recognition-kernel\\lib\\site-packages (from jax>=0.3.15->tensorflow-intel==2.12.0-rc0->tensorflow) (1.10.1)\n",
      "Requirement already satisfied: google-auth<3,>=1.6.3 in .\\hadwriting-recognition-kernel\\lib\\site-packages (from tensorboard<2.13,>=2.12->tensorflow-intel==2.12.0-rc0->tensorflow) (2.16.2)\n",
      "Requirement already satisfied: google-auth-oauthlib<0.5,>=0.4.1 in .\\hadwriting-recognition-kernel\\lib\\site-packages (from tensorboard<2.13,>=2.12->tensorflow-intel==2.12.0-rc0->tensorflow) (0.4.6)\n",
      "Requirement already satisfied: markdown>=2.6.8 in .\\hadwriting-recognition-kernel\\lib\\site-packages (from tensorboard<2.13,>=2.12->tensorflow-intel==2.12.0-rc0->tensorflow) (3.4.1)\n",
      "Requirement already satisfied: requests<3,>=2.21.0 in .\\hadwriting-recognition-kernel\\lib\\site-packages (from tensorboard<2.13,>=2.12->tensorflow-intel==2.12.0-rc0->tensorflow) (2.28.2)\n",
      "Requirement already satisfied: tensorboard-data-server<0.8.0,>=0.7.0 in .\\hadwriting-recognition-kernel\\lib\\site-packages (from tensorboard<2.13,>=2.12->tensorflow-intel==2.12.0-rc0->tensorflow) (0.7.0)\n",
      "Requirement already satisfied: tensorboard-plugin-wit>=1.6.0 in .\\hadwriting-recognition-kernel\\lib\\site-packages (from tensorboard<2.13,>=2.12->tensorflow-intel==2.12.0-rc0->tensorflow) (1.8.1)\n",
      "Requirement already satisfied: werkzeug>=1.0.1 in .\\hadwriting-recognition-kernel\\lib\\site-packages (from tensorboard<2.13,>=2.12->tensorflow-intel==2.12.0-rc0->tensorflow) (2.2.3)\n",
      "Requirement already satisfied: cachetools<6.0,>=2.0.0 in .\\hadwriting-recognition-kernel\\lib\\site-packages (from google-auth<3,>=1.6.3->tensorboard<2.13,>=2.12->tensorflow-intel==2.12.0-rc0->tensorflow) (5.3.0)\n",
      "Requirement already satisfied: pyasn1-modules>=0.2.1 in .\\hadwriting-recognition-kernel\\lib\\site-packages (from google-auth<3,>=1.6.3->tensorboard<2.13,>=2.12->tensorflow-intel==2.12.0-rc0->tensorflow) (0.2.8)\n",
      "Requirement already satisfied: rsa<5,>=3.1.4 in .\\hadwriting-recognition-kernel\\lib\\site-packages (from google-auth<3,>=1.6.3->tensorboard<2.13,>=2.12->tensorflow-intel==2.12.0-rc0->tensorflow) (4.9)\n",
      "Requirement already satisfied: requests-oauthlib>=0.7.0 in .\\hadwriting-recognition-kernel\\lib\\site-packages (from google-auth-oauthlib<0.5,>=0.4.1->tensorboard<2.13,>=2.12->tensorflow-intel==2.12.0-rc0->tensorflow) (1.3.1)\n",
      "Requirement already satisfied: charset-normalizer<4,>=2 in .\\hadwriting-recognition-kernel\\lib\\site-packages (from requests<3,>=2.21.0->tensorboard<2.13,>=2.12->tensorflow-intel==2.12.0-rc0->tensorflow) (3.0.1)\n",
      "Requirement already satisfied: idna<4,>=2.5 in .\\hadwriting-recognition-kernel\\lib\\site-packages (from requests<3,>=2.21.0->tensorboard<2.13,>=2.12->tensorflow-intel==2.12.0-rc0->tensorflow) (3.4)\n",
      "Requirement already satisfied: urllib3<1.27,>=1.21.1 in .\\hadwriting-recognition-kernel\\lib\\site-packages (from requests<3,>=2.21.0->tensorboard<2.13,>=2.12->tensorflow-intel==2.12.0-rc0->tensorflow) (1.26.14)\n",
      "Requirement already satisfied: certifi>=2017.4.17 in .\\hadwriting-recognition-kernel\\lib\\site-packages (from requests<3,>=2.21.0->tensorboard<2.13,>=2.12->tensorflow-intel==2.12.0-rc0->tensorflow) (2022.12.7)\n",
      "Requirement already satisfied: MarkupSafe>=2.1.1 in .\\hadwriting-recognition-kernel\\lib\\site-packages (from werkzeug>=1.0.1->tensorboard<2.13,>=2.12->tensorflow-intel==2.12.0-rc0->tensorflow) (2.1.2)\n",
      "Requirement already satisfied: pyasn1<0.5.0,>=0.4.6 in .\\hadwriting-recognition-kernel\\lib\\site-packages (from pyasn1-modules>=0.2.1->google-auth<3,>=1.6.3->tensorboard<2.13,>=2.12->tensorflow-intel==2.12.0-rc0->tensorflow) (0.4.8)\n",
      "Requirement already satisfied: oauthlib>=3.0.0 in .\\hadwriting-recognition-kernel\\lib\\site-packages (from requests-oauthlib>=0.7.0->google-auth-oauthlib<0.5,>=0.4.1->tensorboard<2.13,>=2.12->tensorflow-intel==2.12.0-rc0->tensorflow) (3.2.2)\n"
     ]
    }
   ],
   "source": [
    "!pip install tensorflow opencv-python matplotlib"
   ]
  },
  {
   "cell_type": "code",
   "execution_count": 4,
   "id": "751f9370-02c7-475a-a79e-780891101e27",
   "metadata": {
    "collapsed": true,
    "jupyter": {
     "outputs_hidden": true
    },
    "scrolled": true,
    "tags": []
   },
   "outputs": [
    {
     "name": "stdout",
     "output_type": "stream",
     "text": [
      "Package                      Version\n",
      "---------------------------- ---------\n",
      "absl-py                      1.4.0\n",
      "asttokens                    2.2.1\n",
      "astunparse                   1.6.3\n",
      "backcall                     0.2.0\n",
      "cachetools                   5.3.0\n",
      "certifi                      2022.12.7\n",
      "charset-normalizer           3.0.1\n",
      "colorama                     0.4.6\n",
      "comm                         0.1.2\n",
      "contourpy                    1.0.7\n",
      "cycler                       0.11.0\n",
      "debugpy                      1.6.6\n",
      "decorator                    5.1.1\n",
      "executing                    1.2.0\n",
      "flatbuffers                  23.3.3\n",
      "fonttools                    4.38.0\n",
      "gast                         0.4.0\n",
      "google-auth                  2.16.2\n",
      "google-auth-oauthlib         0.4.6\n",
      "google-pasta                 0.2.0\n",
      "grpcio                       1.51.3\n",
      "h5py                         3.8.0\n",
      "idna                         3.4\n",
      "ipykernel                    6.21.2\n",
      "ipython                      8.11.0\n",
      "jax                          0.4.5\n",
      "jedi                         0.18.2\n",
      "jupyter_client               8.0.3\n",
      "jupyter_core                 5.2.0\n",
      "keras                        2.12.0rc1\n",
      "kiwisolver                   1.4.4\n",
      "libclang                     15.0.6.1\n",
      "Markdown                     3.4.1\n",
      "MarkupSafe                   2.1.2\n",
      "matplotlib                   3.7.1\n",
      "matplotlib-inline            0.1.6\n",
      "nest-asyncio                 1.5.6\n",
      "numpy                        1.23.5\n",
      "oauthlib                     3.2.2\n",
      "opencv-python                4.7.0.72\n",
      "opt-einsum                   3.3.0\n",
      "packaging                    23.0\n",
      "parso                        0.8.3\n",
      "pickleshare                  0.7.5\n",
      "Pillow                       9.4.0\n",
      "pip                          23.0.1\n",
      "platformdirs                 3.0.0\n",
      "prompt-toolkit               3.0.38\n",
      "protobuf                     4.22.0\n",
      "psutil                       5.9.4\n",
      "pure-eval                    0.2.2\n",
      "pyasn1                       0.4.8\n",
      "pyasn1-modules               0.2.8\n",
      "Pygments                     2.14.0\n",
      "pyparsing                    3.0.9\n",
      "python-dateutil              2.8.2\n",
      "pywin32                      305\n",
      "pyzmq                        25.0.0\n",
      "requests                     2.28.2\n",
      "requests-oauthlib            1.3.1\n",
      "rsa                          4.9\n",
      "scipy                        1.10.1\n",
      "setuptools                   65.5.0\n",
      "six                          1.16.0\n",
      "stack-data                   0.6.2\n",
      "tensorboard                  2.12.0\n",
      "tensorboard-data-server      0.7.0\n",
      "tensorboard-plugin-wit       1.8.1\n",
      "tensorflow                   2.12.0rc0\n",
      "tensorflow-estimator         2.12.0rc0\n",
      "tensorflow-intel             2.12.0rc0\n",
      "tensorflow-io-gcs-filesystem 0.31.0\n",
      "termcolor                    2.2.0\n",
      "tornado                      6.2\n",
      "traitlets                    5.9.0\n",
      "typing_extensions            4.5.0\n",
      "urllib3                      1.26.14\n",
      "wcwidth                      0.2.6\n",
      "Werkzeug                     2.2.3\n",
      "wheel                        0.38.4\n",
      "wrapt                        1.15.0\n",
      "Note: you may need to restart the kernel to use updated packages.\n"
     ]
    }
   ],
   "source": [
    "pip list"
   ]
  },
  {
   "cell_type": "code",
   "execution_count": 12,
   "id": "61053e87-da8a-4a55-9db2-a63a7ca7103a",
   "metadata": {
    "tags": []
   },
   "outputs": [],
   "source": [
    "import tensorflow as tf\n",
    "import os"
   ]
  },
  {
   "cell_type": "markdown",
   "id": "7a6d7e16-6da1-4df8-af7d-7bc8e69fcb00",
   "metadata": {},
   "source": [
    "## Remove invalid images"
   ]
  },
  {
   "cell_type": "code",
   "execution_count": 6,
   "id": "26b2a2e4-992e-4b30-b5c3-2a7fb754ae7e",
   "metadata": {
    "collapsed": true,
    "jupyter": {
     "outputs_hidden": true
    },
    "tags": []
   },
   "outputs": [
    {
     "name": "stderr",
     "output_type": "stream",
     "text": [
      "C:\\Users\\krios\\AppData\\Local\\Temp\\ipykernel_5868\\4232469594.py:2: DeprecationWarning: 'imghdr' is deprecated and slated for removal in Python 3.13\n",
      "  import imghdr\n"
     ]
    }
   ],
   "source": [
    "import cv2\n",
    "import imghdr"
   ]
  },
  {
   "cell_type": "code",
   "execution_count": 7,
   "id": "535fd67b-3db7-441d-8115-b9c96ca8f979",
   "metadata": {
    "tags": []
   },
   "outputs": [],
   "source": [
    "data_dir = \"data\""
   ]
  },
  {
   "cell_type": "code",
   "execution_count": 8,
   "id": "ec860b8c-fb06-4d9f-8690-6e131aa8ff1d",
   "metadata": {
    "tags": []
   },
   "outputs": [],
   "source": [
    "img_extensions = [\"jpeg\", \"jpg\", \"bmp\", \"png\"]"
   ]
  },
  {
   "cell_type": "code",
   "execution_count": 9,
   "id": "1546ff90-50c7-4021-a770-50dca19df808",
   "metadata": {},
   "outputs": [
    {
     "name": "stdout",
     "output_type": "stream",
     "text": [
      "Overall deleted images = 0\n"
     ]
    }
   ],
   "source": [
    "deleted_imgs = 0\n",
    "for img_class in os.listdir(data_dir):\n",
    "    for img in os.listdir(os.path.join(data_dir, img_class)):\n",
    "        img_path = os.path.join(data_dir, img_class, img)\n",
    "        try:\n",
    "            # Trying to open an image using cv2\n",
    "            image = cv2.imread(img_path)\n",
    "            extension = imghdr.what(img_path)\n",
    "            if extension not in img_extensions:\n",
    "                print(f\"Image not in extension list {img_path}\")\n",
    "                os.remove(img_path)\n",
    "                deleted_imgs += 1\n",
    "        except Exception as e:\n",
    "            print(f\"Issue with image {img_path}\")\n",
    "print(f\"Overall deleted images = {deleted_imgs}\")"
   ]
  },
  {
   "cell_type": "markdown",
   "id": "a903cc1b-a6e9-4bf7-93e6-1d01bcf09450",
   "metadata": {},
   "source": [
    "## Load data"
   ]
  },
  {
   "cell_type": "code",
   "execution_count": 10,
   "id": "e24dadb1",
   "metadata": {},
   "outputs": [],
   "source": [
    "import numpy as np\n",
    "from matplotlib import pyplot as plt"
   ]
  },
  {
   "cell_type": "code",
   "execution_count": 13,
   "id": "db5255b0",
   "metadata": {},
   "outputs": [
    {
     "name": "stdout",
     "output_type": "stream",
     "text": [
      "Found 245 files belonging to 2 classes.\n"
     ]
    }
   ],
   "source": [
    "data = tf.keras.utils.image_dataset_from_directory(\"data\")"
   ]
  },
  {
   "cell_type": "code",
   "execution_count": 14,
   "id": "f45b322e",
   "metadata": {},
   "outputs": [],
   "source": [
    "data_iterator = data.as_numpy_iterator()"
   ]
  },
  {
   "cell_type": "code",
   "execution_count": 15,
   "id": "bf1ac543",
   "metadata": {},
   "outputs": [],
   "source": [
    "batch = data_iterator.next()"
   ]
  },
  {
   "cell_type": "code",
   "execution_count": null,
   "id": "a5e82aa3",
   "metadata": {},
   "outputs": [],
   "source": []
  }
 ],
 "metadata": {
  "kernelspec": {
   "display_name": "hadwriting-recognition-kernel",
   "language": "python",
   "name": "python3"
  },
  "language_info": {
   "codemirror_mode": {
    "name": "ipython",
    "version": 3
   },
   "file_extension": ".py",
   "mimetype": "text/x-python",
   "name": "python",
   "nbconvert_exporter": "python",
   "pygments_lexer": "ipython3",
   "version": "3.11.2"
  }
 },
 "nbformat": 4,
 "nbformat_minor": 5
}
